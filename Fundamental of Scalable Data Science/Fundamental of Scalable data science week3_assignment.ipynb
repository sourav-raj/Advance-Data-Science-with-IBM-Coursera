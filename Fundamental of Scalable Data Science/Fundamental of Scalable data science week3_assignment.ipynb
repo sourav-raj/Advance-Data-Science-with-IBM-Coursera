{
 "cells": [
  {
   "cell_type": "code",
   "execution_count": 3,
   "metadata": {},
   "outputs": [],
   "source": [
    "from pyspark import SparkContext, SparkConf\n",
    "from pyspark.sql import SparkSession"
   ]
  },
  {
   "cell_type": "code",
   "execution_count": 4,
   "metadata": {},
   "outputs": [],
   "source": [
    "sc = SparkContext.getOrCreate(SparkConf().setMaster(\"local[*]\"))\n",
    "spark = SparkSession \\\n",
    "    .builder \\\n",
    "    .getOrCreate()"
   ]
  },
  {
   "cell_type": "code",
   "execution_count": 5,
   "metadata": {},
   "outputs": [],
   "source": [
    "from IPython.display import Markdown, display\n",
    "def printmd(string):\n",
    "    display(Markdown('# <span style=\"color:green\">'+string+'</span>'))"
   ]
  },
  {
   "cell_type": "code",
   "execution_count": 4,
   "metadata": {},
   "outputs": [],
   "source": [
    "def minTemperature():\n",
    "    #TODO Please enter your code here, you are not required to use the template code below\n",
    "    #some reference: https://spark.apache.org/docs/latest/api/python/pyspark.sql.html#pyspark.sql.DataFrame\n",
    "    return spark.sql(\"SELECT min(temperature) as mintemp from washing\").first().mintemp"
   ]
  },
  {
   "cell_type": "code",
   "execution_count": 5,
   "metadata": {},
   "outputs": [],
   "source": [
    "def meanTemperature():\n",
    "    #TODO Please enter your code here, you are not required to use the template code below\n",
    "    #some reference: https://spark.apache.org/docs/latest/api/python/pyspark.sql.html#pyspark.sql.DataFrame\n",
    "    return spark.sql(\"SELECT avg(temperature) as meantemp from washing\").first().meantemp"
   ]
  },
  {
   "cell_type": "code",
   "execution_count": 6,
   "metadata": {},
   "outputs": [],
   "source": [
    "def maxTemperature():\n",
    "    #TODO Please enter your code here, you are not required to use the template code below\n",
    "    #some reference: https://spark.apache.org/docs/latest/api/python/pyspark.sql.html#pyspark.sql.DataFrame\n",
    "    return spark.sql(\"SELECT max(temperature) as maxtemp from washing\").first().maxtemp"
   ]
  },
  {
   "cell_type": "code",
   "execution_count": 7,
   "metadata": {},
   "outputs": [],
   "source": [
    "def sdTemperature():\n",
    "    #TODO Please enter your code here, you are not required to use the template code below\n",
    "    #some reference: https://spark.apache.org/docs/latest/api/python/pyspark.sql.html#pyspark.sql.DataFrame\n",
    "    #https://spark.apache.org/docs/2.3.0/api/sql/\n",
    "    return spark.sql(\"SELECT stddev(temperature) as sdtemp from washing\").first().sdtemp"
   ]
  },
  {
   "cell_type": "code",
   "execution_count": 8,
   "metadata": {},
   "outputs": [],
   "source": [
    "def skewTemperature():    \n",
    "    return spark.sql(\"\"\"\n",
    "SELECT \n",
    "    (\n",
    "        count(temperature)/(count(temperature)-1)*(count(temperature)-2)\n",
    "    ) *\n",
    "    SUM (\n",
    "        POWER(temperature-%s,3)/POWER(%s,3)\n",
    "    )\n",
    "\n",
    "as sktemperature from washing\n",
    "                    \"\"\" %(meanTemperature(),sdTemperature())).first().sktemperature"
   ]
  },
  {
   "cell_type": "code",
   "execution_count": 9,
   "metadata": {},
   "outputs": [],
   "source": [
    "def kurtosisTemperature():    \n",
    "        return spark.sql(\"\"\"\n",
    "SELECT \n",
    "    (\n",
    "        1/count(temperature)\n",
    "    ) *\n",
    "    SUM (\n",
    "        POWER(temperature-%s,4)/POWER(%s,4)\n",
    "    )\n",
    "as ktemperature from washing\n",
    "                    \"\"\" %(meanTemperature(),sdTemperature())).first().ktemperature\n"
   ]
  },
  {
   "cell_type": "code",
   "execution_count": 10,
   "metadata": {},
   "outputs": [],
   "source": [
    "def correlationTemperatureHardness():\n",
    "    #TODO Please enter your code here, you are not required to use the template code below\n",
    "    #some reference: https://spark.apache.org/docs/latest/api/python/pyspark.sql.html#pyspark.sql.DataFrame\n",
    "    #https://spark.apache.org/docs/2.3.0/api/sql/\n",
    "    return spark.sql(\"SELECT corr(temperature,hardness) as temperaturehardness from washing\").first().temperaturehardness"
   ]
  },
  {
   "cell_type": "code",
   "execution_count": 11,
   "metadata": {
    "scrolled": true
   },
   "outputs": [
    {
     "name": "stdout",
     "output_type": "stream",
     "text": [
      "+--------------------+--------------------+-----+--------+----------+---------+--------+-----+-----------+-------------+-------+\n",
      "|                 _id|                _rev|count|flowrate|fluidlevel|frequency|hardness|speed|temperature|           ts|voltage|\n",
      "+--------------------+--------------------+-----+--------+----------+---------+--------+-----+-----------+-------------+-------+\n",
      "|0d86485d0f88d1f9d...|1-57940679fb8a713...|    4|      11|acceptable|     null|      77| null|        100|1547808723923|   null|\n",
      "|0d86485d0f88d1f9d...|1-15ff3a0b304d789...|    2|    null|      null|     null|    null| 1046|       null|1547808729917|   null|\n",
      "|0d86485d0f88d1f9d...|1-97c2742b68c7b07...|    4|    null|      null|       71|    null| null|       null|1547808731918|    236|\n",
      "|0d86485d0f88d1f9d...|1-eefb903dbe45746...|   19|      11|acceptable|     null|      75| null|         86|1547808738999|   null|\n",
      "|0d86485d0f88d1f9d...|1-5f68b4c72813c25...|    7|    null|      null|       75|    null| null|       null|1547808740927|    235|\n",
      "+--------------------+--------------------+-----+--------+----------+---------+--------+-----+-----------+-------------+-------+\n",
      "only showing top 5 rows\n",
      "\n"
     ]
    }
   ],
   "source": [
    "df = spark.read.parquet('washing.parquet')\n",
    "df.createOrReplaceTempView('washing')\n",
    "df.show(5)"
   ]
  },
  {
   "cell_type": "code",
   "execution_count": 12,
   "metadata": {},
   "outputs": [
    {
     "name": "stdout",
     "output_type": "stream",
     "text": [
      "80\n",
      "90.03800298062593\n",
      "100\n",
      "6.1007610586219725\n",
      "18713.133258284124\n",
      "1.773427150876985\n",
      "0.017754069047296324\n"
     ]
    }
   ],
   "source": [
    "min_temperature = minTemperature()\n",
    "print(min_temperature)\n",
    "mean_temperature = meanTemperature()\n",
    "print(mean_temperature)\n",
    "max_temperature = maxTemperature()\n",
    "print(max_temperature)\n",
    "sd_temperature = sdTemperature()\n",
    "print(sd_temperature)\n",
    "skew_temperature = skewTemperature()\n",
    "print(skew_temperature)\n",
    "kurtosis_temperature = kurtosisTemperature()\n",
    "print(kurtosis_temperature)\n",
    "correlation_temperature = correlationTemperatureHardness()\n",
    "print(correlation_temperature)"
   ]
  },
  {
   "cell_type": "code",
   "execution_count": null,
   "metadata": {},
   "outputs": [],
   "source": []
  }
 ],
 "metadata": {
  "kernelspec": {
   "display_name": "geopandas_env",
   "language": "python",
   "name": "geopandas_env"
  },
  "language_info": {
   "codemirror_mode": {
    "name": "ipython",
    "version": 3
   },
   "file_extension": ".py",
   "mimetype": "text/x-python",
   "name": "python",
   "nbconvert_exporter": "python",
   "pygments_lexer": "ipython3",
   "version": "3.7.4"
  }
 },
 "nbformat": 4,
 "nbformat_minor": 2
}
